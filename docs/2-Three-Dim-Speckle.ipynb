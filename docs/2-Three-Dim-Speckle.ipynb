{
 "cells": [
  {
   "cell_type": "markdown",
   "id": "85a5feb9-fadb-415b-8d7b-83e44aa99581",
   "metadata": {},
   "source": [
    "# 3D Speckle Generation & Analysis\n",
    "\n",
    "**Scott Prahl**\n",
    "\n",
    "**Aug 2021**\n",
    "\n",
    "Adapted from the SimSpeckle Matlab script package developed by Duncan and Kirkpatrick\n",
    "\n",
    "https://www.researchgate.net/profile/Sean-Kirkpatrick-2/publication/233783056_Algorithms_for_simulation_of_speckle_laser_and_otherwise/links/09e4150b78c4e8fe5f000000/Algorithms-for-simulation-of-speckle-laser-and-otherwise.pdf\n",
    "\n",
    "If pyspeckle is not installed, uncomment the following cell (i.e., delete the initial #) and execute it with shift-enter. Afterwards, you may need to restart the kernel/runtime before the module will import successfully.\""
   ]
  },
  {
   "cell_type": "code",
   "execution_count": 1,
   "id": "dded6c85-8b19-4b7e-871d-c8553ffe4f09",
   "metadata": {},
   "outputs": [],
   "source": [
    "#!pip install --user pyspeckle"
   ]
  },
  {
   "cell_type": "code",
   "execution_count": 2,
   "id": "0dd79a4e-fd22-4130-b8fd-499961f4aac9",
   "metadata": {},
   "outputs": [],
   "source": [
    "import ipywidgets\n",
    "\n",
    "import imageio\n",
    "import numpy as np\n",
    "import matplotlib.pyplot as plt\n",
    "\n",
    "try:\n",
    "    import pyspeckle\n",
    "\n",
    "except ModuleNotFoundError:\n",
    "    print('pyspeckle is not installed. To install, uncomment and run the cell above.')\n",
    "    print('Once installation is successful, rerun this cell again.')\n",
    "    \n",
    "%config InlineBackend.figure_format='retina'\n",
    "plt.style.use('seaborn-talk')"
   ]
  },
  {
   "cell_type": "markdown",
   "id": "e1f5eec3-5968-4145-bc7a-7f81693ed4f1",
   "metadata": {},
   "source": [
    "## Create simple 3D speckle image\n",
    "\n"
   ]
  },
  {
   "cell_type": "code",
   "execution_count": 3,
   "id": "262159a8-fa15-44e1-be38-130bf17a3d62",
   "metadata": {},
   "outputs": [],
   "source": [
    "# takes a while to run\n",
    "x = pyspeckle.create_Exponential_3D(50, 5, alpha=2, beta=2)\n",
    "y = np.sqrt(x)"
   ]
  },
  {
   "cell_type": "code",
   "execution_count": 4,
   "id": "0bc3a295-11fc-453c-b46a-3d7d4bfcf0a6",
   "metadata": {},
   "outputs": [
    {
     "data": {
      "application/vnd.jupyter.widget-view+json": {
       "model_id": "782acb1d0ae8413fb0fc5a5d53ca733e",
       "version_major": 2,
       "version_minor": 0
      },
      "text/plain": [
       "interactive(children=(IntSlider(value=10, description='z_section', max=99), Output()), _dom_classes=('widget-i…"
      ]
     },
     "metadata": {},
     "output_type": "display_data"
    }
   ],
   "source": [
    "def update(z_section=10):\n",
    "    plt.clf()\n",
    "    plt.imshow(y[:,:,z_section],cmap='gray')\n",
    "\n",
    "ipywidgets.interact(update, z_section = (0,99,1));"
   ]
  },
  {
   "cell_type": "code",
   "execution_count": 5,
   "id": "literary-terrorism",
   "metadata": {},
   "outputs": [
    {
     "data": {
      "application/vnd.jupyter.widget-view+json": {
       "model_id": "c44c613c8d034cde94cfd41a37a28073",
       "version_major": 2,
       "version_minor": 0
      },
      "text/plain": [
       "interactive(children=(IntSlider(value=25, description='x_section', max=49), IntSlider(value=25, description='y…"
      ]
     },
     "metadata": {},
     "output_type": "display_data"
    },
    {
     "data": {
      "text/plain": [
       "<function __main__.update(x_section=25, y_section=25, z_section=25)>"
      ]
     },
     "execution_count": 5,
     "metadata": {},
     "output_type": "execute_result"
    }
   ],
   "source": [
    "xm, ym, zm = x.shape\n",
    "\n",
    "def update(x_section=xm//2, y_section=ym//2, z_section=zm//2):\n",
    "    plt.clf()\n",
    "    pyspeckle.slice_plot(x, x_section, y_section, z_section)\n",
    "\n",
    "ipywidgets.interact(update, x_section = (0,xm-1,1), y_section = (0,ym-1,1), z_section = (0,zm-1,1))"
   ]
  },
  {
   "cell_type": "markdown",
   "id": "2c2015b8-4c13-45df-a399-1de4f23075da",
   "metadata": {},
   "source": [
    "## Unpolarized (Rayleigh) Speckle"
   ]
  },
  {
   "cell_type": "code",
   "execution_count": 6,
   "id": "65ced55f-d631-4e80-aa6c-bc669e87f825",
   "metadata": {
    "tags": []
   },
   "outputs": [],
   "source": [
    "x = pyspeckle.create_Exponential_3D(100, 2, alpha=0.3, polarization=0.0)\n",
    "y = np.sqrt(x)"
   ]
  },
  {
   "cell_type": "code",
   "execution_count": 7,
   "id": "88e5e1a8-caf3-4d53-8541-c71677d40659",
   "metadata": {},
   "outputs": [
    {
     "data": {
      "application/vnd.jupyter.widget-view+json": {
       "model_id": "1e37fa6f7c81404597295d79dff299eb",
       "version_major": 2,
       "version_minor": 0
      },
      "text/plain": [
       "interactive(children=(IntSlider(value=10, description='z_section', max=99), Output()), _dom_classes=('widget-i…"
      ]
     },
     "metadata": {},
     "output_type": "display_data"
    },
    {
     "data": {
      "text/plain": [
       "<function __main__.update(z_section=10)>"
      ]
     },
     "execution_count": 7,
     "metadata": {},
     "output_type": "execute_result"
    }
   ],
   "source": [
    "\n",
    "\n",
    "def update(z_section=10):\n",
    "    plt.clf()\n",
    "    pyspeckle.statistics_plot(x[:,:,z_section], initialize=False)\n",
    "    plt.show()\n",
    "\n",
    "ipywidgets.interact(update, z_section = (0,99,1))"
   ]
  },
  {
   "cell_type": "code",
   "execution_count": null,
   "id": "903b1f84-ab8b-4ed9-82cf-d6110fb604e8",
   "metadata": {},
   "outputs": [],
   "source": []
  }
 ],
 "metadata": {
  "kernelspec": {
   "display_name": "Python 3",
   "language": "python",
   "name": "python3"
  },
  "language_info": {
   "codemirror_mode": {
    "name": "ipython",
    "version": 3
   },
   "file_extension": ".py",
   "mimetype": "text/x-python",
   "name": "python",
   "nbconvert_exporter": "python",
   "pygments_lexer": "ipython3",
   "version": "3.9.7"
  }
 },
 "nbformat": 4,
 "nbformat_minor": 5
}
